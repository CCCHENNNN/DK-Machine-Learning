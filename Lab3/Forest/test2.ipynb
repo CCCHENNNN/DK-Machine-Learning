{
 "cells": [
  {
   "cell_type": "code",
   "execution_count": 43,
   "metadata": {},
   "outputs": [],
   "source": [
    "import pandas as pd\n",
    "import numpy as np"
   ]
  },
  {
   "cell_type": "code",
   "execution_count": 44,
   "metadata": {},
   "outputs": [],
   "source": [
    "from IPython.display import display\n",
    "%matplotlib inline\n",
    "import seaborn as sns"
   ]
  },
  {
   "cell_type": "code",
   "execution_count": 45,
   "metadata": {},
   "outputs": [
    {
     "data": {
      "text/html": [
       "<div>\n",
       "<style scoped>\n",
       "    .dataframe tbody tr th:only-of-type {\n",
       "        vertical-align: middle;\n",
       "    }\n",
       "\n",
       "    .dataframe tbody tr th {\n",
       "        vertical-align: top;\n",
       "    }\n",
       "\n",
       "    .dataframe thead th {\n",
       "        text-align: right;\n",
       "    }\n",
       "</style>\n",
       "<table border=\"1\" class=\"dataframe\">\n",
       "  <thead>\n",
       "    <tr style=\"text-align: right;\">\n",
       "      <th></th>\n",
       "      <th>Id</th>\n",
       "      <th>Elevation</th>\n",
       "      <th>Aspect</th>\n",
       "      <th>Slope</th>\n",
       "      <th>Horizontal_Distance_To_Hydrology</th>\n",
       "      <th>Vertical_Distance_To_Hydrology</th>\n",
       "      <th>Horizontal_Distance_To_Roadways</th>\n",
       "      <th>Hillshade_9am</th>\n",
       "      <th>Hillshade_Noon</th>\n",
       "      <th>Hillshade_3pm</th>\n",
       "      <th>...</th>\n",
       "      <th>Soil_Type32</th>\n",
       "      <th>Soil_Type33</th>\n",
       "      <th>Soil_Type34</th>\n",
       "      <th>Soil_Type35</th>\n",
       "      <th>Soil_Type36</th>\n",
       "      <th>Soil_Type37</th>\n",
       "      <th>Soil_Type38</th>\n",
       "      <th>Soil_Type39</th>\n",
       "      <th>Soil_Type40</th>\n",
       "      <th>Cover_Type</th>\n",
       "    </tr>\n",
       "  </thead>\n",
       "  <tbody>\n",
       "    <tr>\n",
       "      <th>0</th>\n",
       "      <td>1</td>\n",
       "      <td>2611</td>\n",
       "      <td>326</td>\n",
       "      <td>20</td>\n",
       "      <td>120</td>\n",
       "      <td>27</td>\n",
       "      <td>1597</td>\n",
       "      <td>168</td>\n",
       "      <td>214</td>\n",
       "      <td>184</td>\n",
       "      <td>...</td>\n",
       "      <td>0</td>\n",
       "      <td>0</td>\n",
       "      <td>0</td>\n",
       "      <td>0</td>\n",
       "      <td>0</td>\n",
       "      <td>0</td>\n",
       "      <td>0</td>\n",
       "      <td>0</td>\n",
       "      <td>0</td>\n",
       "      <td>6</td>\n",
       "    </tr>\n",
       "  </tbody>\n",
       "</table>\n",
       "<p>1 rows × 56 columns</p>\n",
       "</div>"
      ],
      "text/plain": [
       "   Id  Elevation  Aspect  Slope  Horizontal_Distance_To_Hydrology  \\\n",
       "0   1       2611     326     20                               120   \n",
       "\n",
       "   Vertical_Distance_To_Hydrology  Horizontal_Distance_To_Roadways  \\\n",
       "0                              27                             1597   \n",
       "\n",
       "   Hillshade_9am  Hillshade_Noon  Hillshade_3pm     ...      Soil_Type32  \\\n",
       "0            168             214            184     ...                0   \n",
       "\n",
       "   Soil_Type33  Soil_Type34  Soil_Type35  Soil_Type36  Soil_Type37  \\\n",
       "0            0            0            0            0            0   \n",
       "\n",
       "   Soil_Type38  Soil_Type39  Soil_Type40  Cover_Type  \n",
       "0            0            0            0           6  \n",
       "\n",
       "[1 rows x 56 columns]"
      ]
     },
     "metadata": {},
     "output_type": "display_data"
    },
    {
     "data": {
      "text/html": [
       "<div>\n",
       "<style scoped>\n",
       "    .dataframe tbody tr th:only-of-type {\n",
       "        vertical-align: middle;\n",
       "    }\n",
       "\n",
       "    .dataframe tbody tr th {\n",
       "        vertical-align: top;\n",
       "    }\n",
       "\n",
       "    .dataframe thead th {\n",
       "        text-align: right;\n",
       "    }\n",
       "</style>\n",
       "<table border=\"1\" class=\"dataframe\">\n",
       "  <thead>\n",
       "    <tr style=\"text-align: right;\">\n",
       "      <th></th>\n",
       "      <th>Id</th>\n",
       "      <th>Elevation</th>\n",
       "      <th>Aspect</th>\n",
       "      <th>Slope</th>\n",
       "      <th>Horizontal_Distance_To_Hydrology</th>\n",
       "      <th>Vertical_Distance_To_Hydrology</th>\n",
       "      <th>Horizontal_Distance_To_Roadways</th>\n",
       "      <th>Hillshade_9am</th>\n",
       "      <th>Hillshade_Noon</th>\n",
       "      <th>Hillshade_3pm</th>\n",
       "      <th>...</th>\n",
       "      <th>Soil_Type31</th>\n",
       "      <th>Soil_Type32</th>\n",
       "      <th>Soil_Type33</th>\n",
       "      <th>Soil_Type34</th>\n",
       "      <th>Soil_Type35</th>\n",
       "      <th>Soil_Type36</th>\n",
       "      <th>Soil_Type37</th>\n",
       "      <th>Soil_Type38</th>\n",
       "      <th>Soil_Type39</th>\n",
       "      <th>Soil_Type40</th>\n",
       "    </tr>\n",
       "  </thead>\n",
       "  <tbody>\n",
       "    <tr>\n",
       "      <th>0</th>\n",
       "      <td>528721</td>\n",
       "      <td>2953</td>\n",
       "      <td>224</td>\n",
       "      <td>9</td>\n",
       "      <td>55</td>\n",
       "      <td>11</td>\n",
       "      <td>1600</td>\n",
       "      <td>206</td>\n",
       "      <td>251</td>\n",
       "      <td>176</td>\n",
       "      <td>...</td>\n",
       "      <td>0</td>\n",
       "      <td>1</td>\n",
       "      <td>0</td>\n",
       "      <td>0</td>\n",
       "      <td>0</td>\n",
       "      <td>0</td>\n",
       "      <td>0</td>\n",
       "      <td>0</td>\n",
       "      <td>0</td>\n",
       "      <td>0</td>\n",
       "    </tr>\n",
       "  </tbody>\n",
       "</table>\n",
       "<p>1 rows × 55 columns</p>\n",
       "</div>"
      ],
      "text/plain": [
       "       Id  Elevation  Aspect  Slope  Horizontal_Distance_To_Hydrology  \\\n",
       "0  528721       2953     224      9                                55   \n",
       "\n",
       "   Vertical_Distance_To_Hydrology  Horizontal_Distance_To_Roadways  \\\n",
       "0                              11                             1600   \n",
       "\n",
       "   Hillshade_9am  Hillshade_Noon  Hillshade_3pm     ...       Soil_Type31  \\\n",
       "0            206             251            176     ...                 0   \n",
       "\n",
       "   Soil_Type32  Soil_Type33  Soil_Type34  Soil_Type35  Soil_Type36  \\\n",
       "0            1            0            0            0            0   \n",
       "\n",
       "   Soil_Type37  Soil_Type38  Soil_Type39  Soil_Type40  \n",
       "0            0            0            0            0  \n",
       "\n",
       "[1 rows x 55 columns]"
      ]
     },
     "metadata": {},
     "output_type": "display_data"
    }
   ],
   "source": [
    "train = pd.read_csv('all/train-set.csv')\n",
    "test=pd.read_csv('all/test-set.csv')\n",
    "display(train.head(n=1),test.head(n=1))"
   ]
  },
  {
   "cell_type": "code",
   "execution_count": 46,
   "metadata": {},
   "outputs": [
    {
     "name": "stdout",
     "output_type": "stream",
     "text": [
      "<class 'pandas.core.frame.DataFrame'>\n",
      "RangeIndex: 528720 entries, 0 to 528719\n",
      "Data columns (total 23 columns):\n",
      "Id                                    528720 non-null int64\n",
      "Elevation                             528720 non-null int64\n",
      "Aspect                                528720 non-null int64\n",
      "Slope                                 528720 non-null int64\n",
      "Horizontal_Distance_To_Hydrology      528720 non-null int64\n",
      "Vertical_Distance_To_Hydrology        528720 non-null int64\n",
      "Horizontal_Distance_To_Roadways       528720 non-null int64\n",
      "Hillshade_9am                         528720 non-null int64\n",
      "Hillshade_Noon                        528720 non-null int64\n",
      "Hillshade_3pm                         528720 non-null int64\n",
      "Horizontal_Distance_To_Fire_Points    528720 non-null int64\n",
      "Cover_Type                            528720 non-null int64\n",
      "Ele_minus_VDtHyd                      528720 non-null int64\n",
      "Ele_plus_VDtHyd                       528720 non-null int64\n",
      "Distanse_to_Hydrolody                 528720 non-null float64\n",
      "Hydro_plus_Fire                       528720 non-null int64\n",
      "Hydro_minus_Fire                      528720 non-null int64\n",
      "Hydro_plus_Road                       528720 non-null int64\n",
      "Hydro_minus_Road                      528720 non-null int64\n",
      "Fire_plus_Road                        528720 non-null int64\n",
      "Fire_minus_Road                       528720 non-null int64\n",
      "Soil                                  528720 non-null int64\n",
      "Wilderness_Area                       528720 non-null int64\n",
      "dtypes: float64(1), int64(22)\n",
      "memory usage: 92.8 MB\n"
     ]
    }
   ],
   "source": [
    "train['Ele_minus_VDtHyd'] = train.Elevation - train.Vertical_Distance_To_Hydrology\n",
    "train['Ele_plus_VDtHyd'] = train.Elevation + train.Vertical_Distance_To_Hydrology\n",
    "train['Distanse_to_Hydrolody'] = (train['Horizontal_Distance_To_Hydrology'] ** 2 + train['Vertical_Distance_To_Hydrology'] ** 2) ** 0.5\n",
    "train['Hydro_plus_Fire'] = train['Horizontal_Distance_To_Hydrology'] + train['Horizontal_Distance_To_Fire_Points']\n",
    "train['Hydro_minus_Fire'] = train['Horizontal_Distance_To_Hydrology'] - train['Horizontal_Distance_To_Fire_Points']\n",
    "train['Hydro_plus_Road'] = train['Horizontal_Distance_To_Hydrology'] + train['Horizontal_Distance_To_Roadways']\n",
    "train['Hydro_minus_Road'] = train['Horizontal_Distance_To_Hydrology'] - train['Horizontal_Distance_To_Roadways']\n",
    "train['Fire_plus_Road'] = train['Horizontal_Distance_To_Fire_Points'] + train['Horizontal_Distance_To_Roadways']\n",
    "train['Fire_minus_Road'] = train['Horizontal_Distance_To_Fire_Points'] - train['Horizontal_Distance_To_Roadways']\n",
    "train['Soil'] = 0\n",
    "for i in range(1, 41):\n",
    "    train['Soil'] = train['Soil'] + i * train['Soil_Type' + str(i)]\n",
    "train['Wilderness_Area'] = 0\n",
    "for i in range(1, 5):\n",
    "    train['Wilderness_Area'] = train['Wilderness_Area'] + i * train['Wilderness_Area' + str(i)]\n",
    "for i in range(1, 41):\n",
    "    train = train.drop(['Soil_Type' + str(i)], axis=1)\n",
    "for i in range(1, 5):\n",
    "    train = train.drop(['Wilderness_Area' + str(i)], axis=1)\n",
    "train.head(10)\n",
    "train.info()"
   ]
  },
  {
   "cell_type": "code",
   "execution_count": 4,
   "metadata": {},
   "outputs": [
    {
     "name": "stdout",
     "output_type": "stream",
     "text": [
      "[[0 0 1 0 0 0 0 0 0 0 0 0 0 1 0 0 0 0 0 0 0 0 0 0 0 0 0 0 0 0 0 0 0 0 0 0\n",
      "  0 0 0 0 0 0 0 0 6]\n",
      " [1 0 0 0 0 0 0 0 0 0 0 0 0 0 0 0 0 0 0 0 0 0 0 0 0 0 1 0 0 0 0 0 0 0 0 0\n",
      "  0 0 0 0 0 0 0 0 2]\n",
      " [0 0 1 0 0 0 0 0 0 0 0 0 0 0 1 0 0 0 0 0 0 0 0 0 0 0 0 0 0 0 0 0 0 0 0 0\n",
      "  0 0 0 0 0 0 0 0 2]\n",
      " [1 0 0 0 0 0 0 0 0 0 0 0 0 0 0 0 0 0 0 0 0 0 0 0 0 0 1 0 0 0 0 0 0 0 0 0\n",
      "  0 0 0 0 0 0 0 0 2]\n",
      " [0 0 0 1 0 0 0 0 0 1 0 0 0 0 0 0 0 0 0 0 0 0 0 0 0 0 0 0 0 0 0 0 0 0 0 0\n",
      "  0 0 0 0 0 0 0 0 2]\n",
      " [1 0 0 0 0 0 0 0 0 0 0 0 0 0 0 1 0 0 0 0 0 0 0 0 0 0 0 0 0 0 0 0 0 0 0 0\n",
      "  0 0 0 0 0 0 0 0 2]\n",
      " [1 0 0 0 0 0 0 0 0 0 0 0 0 0 0 0 0 0 0 0 0 0 0 0 0 0 0 0 0 0 0 0 1 0 0 0\n",
      "  0 0 0 0 0 0 0 0 2]\n",
      " [1 0 0 0 0 0 0 0 0 0 0 0 0 0 0 0 0 0 0 0 0 0 0 0 0 1 0 0 0 0 0 0 0 0 0 0\n",
      "  0 0 0 0 0 0 0 0 1]\n",
      " [0 0 1 0 0 0 0 0 0 0 0 0 0 0 0 0 0 0 0 0 0 0 0 0 0 0 0 1 0 0 0 0 0 0 0 0\n",
      "  0 0 0 0 0 0 0 0 1]\n",
      " [0 0 1 0 0 0 0 0 0 0 0 0 0 0 0 0 0 0 0 0 0 0 0 0 0 0 0 0 0 0 0 0 0 0 0 0\n",
      "  0 0 0 0 0 1 0 0 7]]\n"
     ]
    }
   ],
   "source": [
    "# tem = train.values\n",
    "# print(tem[:10,-45:])"
   ]
  },
  {
   "cell_type": "code",
   "execution_count": 18,
   "metadata": {},
   "outputs": [
    {
     "data": {
      "text/plain": [
       "<matplotlib.axes._subplots.AxesSubplot at 0x1a0ef39470>"
      ]
     },
     "execution_count": 18,
     "metadata": {},
     "output_type": "execute_result"
    },
    {
     "data": {
      "image/png": "[encoded data removed]",
      "text/plain": [
       "<Figure size 432x288 with 1 Axes>"
      ]
     },
     "metadata": {},
     "output_type": "display_data"
    }
   ],
   "source": [
    "# sns.violinplot(x=\"Id\", hue=\"Cover_Type\", data=train)"
   ]
  },
  {
   "cell_type": "code",
   "execution_count": 6,
   "metadata": {},
   "outputs": [],
   "source": [
    "# train['Elevation']=train['Elevation'].map(lambda x: 'x' if x<3100 and x>2900 else '7' if x<3200 and x>3100 else '6')"
   ]
  },
  {
   "cell_type": "code",
   "execution_count": 7,
   "metadata": {},
   "outputs": [
    {
     "name": "stdout",
     "output_type": "stream",
     "text": [
      "<class 'pandas.core.frame.DataFrame'>\n",
      "RangeIndex: 528720 entries, 0 to 528719\n",
      "Data columns (total 56 columns):\n",
      "Id                                    528720 non-null int64\n",
      "Elevation                             528720 non-null int64\n",
      "Aspect                                528720 non-null int64\n",
      "Slope                                 528720 non-null int64\n",
      "Horizontal_Distance_To_Hydrology      528720 non-null int64\n",
      "Vertical_Distance_To_Hydrology        528720 non-null int64\n",
      "Horizontal_Distance_To_Roadways       528720 non-null int64\n",
      "Hillshade_9am                         528720 non-null int64\n",
      "Hillshade_Noon                        528720 non-null int64\n",
      "Hillshade_3pm                         528720 non-null int64\n",
      "Horizontal_Distance_To_Fire_Points    528720 non-null int64\n",
      "Wilderness_Area1                      528720 non-null int64\n",
      "Wilderness_Area2                      528720 non-null int64\n",
      "Wilderness_Area3                      528720 non-null int64\n",
      "Wilderness_Area4                      528720 non-null int64\n",
      "Soil_Type1                            528720 non-null int64\n",
      "Soil_Type2                            528720 non-null int64\n",
      "Soil_Type3                            528720 non-null int64\n",
      "Soil_Type4                            528720 non-null int64\n",
      "Soil_Type5                            528720 non-null int64\n",
      "Soil_Type6                            528720 non-null int64\n",
      "Soil_Type7                            528720 non-null int64\n",
      "Soil_Type8                            528720 non-null int64\n",
      "Soil_Type9                            528720 non-null int64\n",
      "Soil_Type10                           528720 non-null int64\n",
      "Soil_Type11                           528720 non-null int64\n",
      "Soil_Type12                           528720 non-null int64\n",
      "Soil_Type13                           528720 non-null int64\n",
      "Soil_Type14                           528720 non-null int64\n",
      "Soil_Type15                           528720 non-null int64\n",
      "Soil_Type16                           528720 non-null int64\n",
      "Soil_Type17                           528720 non-null int64\n",
      "Soil_Type18                           528720 non-null int64\n",
      "Soil_Type19                           528720 non-null int64\n",
      "Soil_Type20                           528720 non-null int64\n",
      "Soil_Type21                           528720 non-null int64\n",
      "Soil_Type22                           528720 non-null int64\n",
      "Soil_Type23                           528720 non-null int64\n",
      "Soil_Type24                           528720 non-null int64\n",
      "Soil_Type25                           528720 non-null int64\n",
      "Soil_Type26                           528720 non-null int64\n",
      "Soil_Type27                           528720 non-null int64\n",
      "Soil_Type28                           528720 non-null int64\n",
      "Soil_Type29                           528720 non-null int64\n",
      "Soil_Type30                           528720 non-null int64\n",
      "Soil_Type31                           528720 non-null int64\n",
      "Soil_Type32                           528720 non-null int64\n",
      "Soil_Type33                           528720 non-null int64\n",
      "Soil_Type34                           528720 non-null int64\n",
      "Soil_Type35                           528720 non-null int64\n",
      "Soil_Type36                           528720 non-null int64\n",
      "Soil_Type37                           528720 non-null int64\n",
      "Soil_Type38                           528720 non-null int64\n",
      "Soil_Type39                           528720 non-null int64\n",
      "Soil_Type40                           528720 non-null int64\n",
      "Cover_Type                            528720 non-null int64\n",
      "dtypes: int64(56)\n",
      "memory usage: 225.9 MB\n"
     ]
    }
   ],
   "source": [
    "# train = train.drop(['Aspect'], axis=1)\n",
    "# train.info()"
   ]
  },
  {
   "cell_type": "code",
   "execution_count": 8,
   "metadata": {},
   "outputs": [
    {
     "name": "stdout",
     "output_type": "stream",
     "text": [
      "[[0 0 0 0 0 0 0 0 0 1 0 0 0 0 0 0 0 0 0 0 0 0 0 0 0 0 0 0 0 0 0 0 0 0 0 0\n",
      "  0 0 0 0]\n",
      " [0 0 0 0 0 0 0 0 0 0 0 0 0 0 0 0 0 0 0 0 0 0 1 0 0 0 0 0 0 0 0 0 0 0 0 0\n",
      "  0 0 0 0]\n",
      " [0 0 0 0 0 0 0 0 0 0 1 0 0 0 0 0 0 0 0 0 0 0 0 0 0 0 0 0 0 0 0 0 0 0 0 0\n",
      "  0 0 0 0]\n",
      " [0 0 0 0 0 0 0 0 0 0 0 0 0 0 0 0 0 0 0 0 0 0 1 0 0 0 0 0 0 0 0 0 0 0 0 0\n",
      "  0 0 0 0]\n",
      " [0 0 0 0 0 1 0 0 0 0 0 0 0 0 0 0 0 0 0 0 0 0 0 0 0 0 0 0 0 0 0 0 0 0 0 0\n",
      "  0 0 0 0]\n",
      " [0 0 0 0 0 0 0 0 0 0 0 1 0 0 0 0 0 0 0 0 0 0 0 0 0 0 0 0 0 0 0 0 0 0 0 0\n",
      "  0 0 0 0]\n",
      " [0 0 0 0 0 0 0 0 0 0 0 0 0 0 0 0 0 0 0 0 0 0 0 0 0 0 0 0 1 0 0 0 0 0 0 0\n",
      "  0 0 0 0]\n",
      " [0 0 0 0 0 0 0 0 0 0 0 0 0 0 0 0 0 0 0 0 0 1 0 0 0 0 0 0 0 0 0 0 0 0 0 0\n",
      "  0 0 0 0]\n",
      " [0 0 0 0 0 0 0 0 0 0 0 0 0 0 0 0 0 0 0 0 0 0 0 1 0 0 0 0 0 0 0 0 0 0 0 0\n",
      "  0 0 0 0]\n",
      " [0 0 0 0 0 0 0 0 0 0 0 0 0 0 0 0 0 0 0 0 0 0 0 0 0 0 0 0 0 0 0 0 0 0 0 0\n",
      "  0 1 0 0]]\n",
      "[[0 0 1]\n",
      " [1 0 0]\n",
      " [0 0 1]\n",
      " [1 0 0]\n",
      " [0 0 0]\n",
      " [1 0 0]\n",
      " [1 0 0]\n",
      " [1 0 0]\n",
      " [0 0 1]\n",
      " [0 0 1]]\n",
      "[[   1 2611  326   20  120   27 1597  168  214  184 2913    3   10    6]\n",
      " [   2 2772  324   17   42    7 1814  175  220  183 2879    1   23    2]\n",
      " [   3 2764    4   14  480  -21  700  201  212  148  700    3   11    2]\n",
      " [   4 3032  342    9   60    8 4050  202  227  164 2376    1   23    2]\n",
      " [   5 2488   23   11  117   21 1117  209  218  151 1136    1    6    2]\n",
      " [   6 2968   83    8  390   19 4253  232  226  127 4570    1   12    2]\n",
      " [   7 3027   11    6  534   47 1248  214  228  151 2388    1   29    2]\n",
      " [   8 3216  277    9   67   23 5430  212  236  169 2373    1   22    1]\n",
      " [   9 3242  262    5  849  169 1672  207  242  173  691    3   24    1]\n",
      " [  10 3315   61   15  120   -6 3042  231  208  106 1832    3   38    7]]\n"
     ]
    }
   ],
   "source": [
    "# train_data = train.values\n",
    "# soil_data = train_data[:,-41:-1]\n",
    "# wild_data = train_data[:,11:14]\n",
    "# print(soil_data[:10,:])\n",
    "# print(wild_data[:10,:])\n",
    "# # for i in range(0,len)\n",
    "# for k in range(0,train_data.shape[0]):\n",
    "#     soil_data[k,:] = np.argmax(soil_data[k,:])+1\n",
    "#     wild_data[k,:] = np.argmax(wild_data[k,:])+1\n",
    "# # soil_data = soil_data[:,0]\n",
    "# # print(soil_data.shape[0])\n",
    "# temp_data = np.column_stack((train_data[:,:11],wild_data[:,0]))\n",
    "# temp_data = np.column_stack((temp_data[:,:],soil_data[:,0]))\n",
    "# train_data = np.column_stack((temp_data[:,:],train_data[:,-1]))\n",
    "# print(train_data[0:10,:])"
   ]
  },
  {
   "cell_type": "code",
   "execution_count": 17,
   "metadata": {},
   "outputs": [
    {
     "name": "stdout",
     "output_type": "stream",
     "text": [
      "0.947\n"
     ]
    }
   ],
   "source": [
    "# from sklearn.ensemble import RandomForestClassifier\n",
    "# model = RandomForestClassifier(n_estimators = 300,oob_score=True, random_state=30)\n",
    "# # from sklearn.neighbors import KNeighborsClassifier\n",
    "# # model = KNeighborsClassifier(n_neighbors = 10)\n",
    "# model = model.fit(train_data[0:-1000,1:-1],train_data[0:-1000,-1])\n",
    "# test_data = train_data[-1000:,1:-1]\n",
    "# output = model.predict(test_data)\n",
    "# output = model.predict(test_data)\n",
    "# standard = train_data[-1000:,-1]\n",
    "# from sklearn.metrics import accuracy_score\n",
    "# accuracy = accuracy_score(standard,output)\n",
    "# print(accuracy)"
   ]
  },
  {
   "cell_type": "code",
   "execution_count": 49,
   "metadata": {},
   "outputs": [],
   "source": [
    "train_x = train.drop(['Cover_Type'], axis=1)\n",
    "train_y = train['Cover_Type']"
   ]
  },
  {
   "cell_type": "code",
   "execution_count": 50,
   "metadata": {},
   "outputs": [
    {
     "name": "stdout",
     "output_type": "stream",
     "text": [
      "<class 'pandas.core.frame.DataFrame'>\n",
      "RangeIndex: 528720 entries, 0 to 528719\n",
      "Data columns (total 22 columns):\n",
      "Id                                    528720 non-null int64\n",
      "Elevation                             528720 non-null int64\n",
      "Aspect                                528720 non-null int64\n",
      "Slope                                 528720 non-null int64\n",
      "Horizontal_Distance_To_Hydrology      528720 non-null int64\n",
      "Vertical_Distance_To_Hydrology        528720 non-null int64\n",
      "Horizontal_Distance_To_Roadways       528720 non-null int64\n",
      "Hillshade_9am                         528720 non-null int64\n",
      "Hillshade_Noon                        528720 non-null int64\n",
      "Hillshade_3pm                         528720 non-null int64\n",
      "Horizontal_Distance_To_Fire_Points    528720 non-null int64\n",
      "Ele_minus_VDtHyd                      528720 non-null int64\n",
      "Ele_plus_VDtHyd                       528720 non-null int64\n",
      "Distanse_to_Hydrolody                 528720 non-null float64\n",
      "Hydro_plus_Fire                       528720 non-null int64\n",
      "Hydro_minus_Fire                      528720 non-null int64\n",
      "Hydro_plus_Road                       528720 non-null int64\n",
      "Hydro_minus_Road                      528720 non-null int64\n",
      "Fire_plus_Road                        528720 non-null int64\n",
      "Fire_minus_Road                       528720 non-null int64\n",
      "Soil                                  528720 non-null int64\n",
      "Wilderness_Area                       528720 non-null int64\n",
      "dtypes: float64(1), int64(21)\n",
      "memory usage: 88.7 MB\n",
      "0         6\n",
      "1         2\n",
      "2         2\n",
      "3         2\n",
      "4         2\n",
      "5         2\n",
      "6         2\n",
      "7         1\n",
      "8         1\n",
      "9         7\n",
      "10        1\n",
      "11        6\n",
      "12        2\n",
      "13        2\n",
      "14        1\n",
      "15        2\n",
      "16        1\n",
      "17        3\n",
      "18        2\n",
      "19        1\n",
      "20        3\n",
      "21        2\n",
      "22        2\n",
      "23        2\n",
      "24        2\n",
      "25        2\n",
      "26        2\n",
      "27        2\n",
      "28        1\n",
      "29        2\n",
      "         ..\n",
      "528690    1\n",
      "528691    3\n",
      "528692    2\n",
      "528693    6\n",
      "528694    1\n",
      "528695    1\n",
      "528696    1\n",
      "528697    2\n",
      "528698    1\n",
      "528699    1\n",
      "528700    2\n",
      "528701    6\n",
      "528702    1\n",
      "528703    2\n",
      "528704    1\n",
      "528705    2\n",
      "528706    1\n",
      "528707    1\n",
      "528708    1\n",
      "528709    1\n",
      "528710    2\n",
      "528711    1\n",
      "528712    2\n",
      "528713    2\n",
      "528714    2\n",
      "528715    1\n",
      "528716    1\n",
      "528717    2\n",
      "528718    1\n",
      "528719    2\n",
      "Name: Cover_Type, Length: 528720, dtype: int64\n"
     ]
    }
   ],
   "source": [
    "train_x.info()\n",
    "print(train_y)"
   ]
  },
  {
   "cell_type": "code",
   "execution_count": 51,
   "metadata": {},
   "outputs": [],
   "source": [
    "train_x_data = train_x.values\n",
    "train_y_data = train_y.values\n",
    "from sklearn.ensemble import RandomForestClassifier\n",
    "model = RandomForestClassifier(n_estimators = 500,oob_score=True, random_state=30)\n",
    "# from sklearn.neighbors import KNeighborsClassifier\n",
    "# model = KNeighborsClassifier(n_neighbors = 10)\n",
    "model = model.fit(train_x_data[0:-1000,:],train_y_data[0:-1000])"
   ]
  },
  {
   "cell_type": "code",
   "execution_count": 52,
   "metadata": {},
   "outputs": [
    {
     "name": "stdout",
     "output_type": "stream",
     "text": [
      "0.949\n"
     ]
    }
   ],
   "source": [
    "test_x_data = train_x_data[-1000:,:]\n",
    "test_y_data = train_y_data[-1000:]\n",
    "output = model.predict(test_x_data)\n",
    "# output = model.predict(test_data)\n",
    "# standard = train_data[-1000:,-1]\n",
    "from sklearn.metrics import accuracy_score\n",
    "accuracy = accuracy_score(test_y_data,output)\n",
    "print(accuracy)"
   ]
  },
  {
   "cell_type": "code",
   "execution_count": null,
   "metadata": {},
   "outputs": [],
   "source": []
  }
 ],
 "metadata": {
  "kernelspec": {
   "display_name": "Python 3",
   "language": "python",
   "name": "python3"
  },
  "language_info": {
   "codemirror_mode": {
    "name": "ipython",
    "version": 3
   },
   "file_extension": ".py",
   "mimetype": "text/x-python",
   "name": "python",
   "nbconvert_exporter": "python",
   "pygments_lexer": "ipython3",
   "version": "3.6.5"
  }
 },
 "nbformat": 4,
 "nbformat_minor": 2
}
